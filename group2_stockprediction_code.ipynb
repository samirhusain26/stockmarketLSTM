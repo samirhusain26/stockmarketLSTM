{
 "cells": [
  {
   "cell_type": "markdown",
   "metadata": {},
   "source": [
    "### Importing packages"
   ]
  },
  {
   "cell_type": "code",
   "execution_count": 1,
   "metadata": {},
   "outputs": [
    {
     "name": "stderr",
     "output_type": "stream",
     "text": [
      "Using TensorFlow backend.\n"
     ]
    }
   ],
   "source": [
    "# Reference - https://www.kaggle.com/bunny01/predict-stock-price-of-apple-inc-with-lstm/data\n",
    "\n",
    "from __future__ import print_function\n",
    "import numpy as np # linear algebra\n",
    "import pandas as pd # data processing, CSV file I/O (e.g. pd.read_csv)\n",
    "from keras.layers.core import Dense, Activation, Dropout\n",
    "from keras.layers.recurrent import LSTM\n",
    "from keras.models import Sequential\n",
    "from sklearn.model_selection import  train_test_split\n",
    "from sklearn import model_selection, preprocessing, linear_model, naive_bayes, metrics, svm\n",
    "from sklearn.preprocessing import MinMaxScaler\n",
    "from sklearn.metrics import mean_squared_error\n",
    "import matplotlib.pyplot as plt\n",
    "import math\n",
    "import pandas_datareader.data as web\n",
    "from datetime import date\n",
    "import datetime\n",
    "import seaborn as sns; sns.set()\n",
    "\n",
    "# to not display the warnings of tensorflow\n",
    "import os\n",
    "os.environ['TF_CPP_MIN_LOG_LEVEL']='2'\n",
    "\n",
    "# fix random seed for reproducibility\n",
    "np.random.seed(1234)"
   ]
  },
  {
   "cell_type": "markdown",
   "metadata": {},
   "source": [
    "### Getting stock prices"
   ]
  },
  {
   "cell_type": "code",
   "execution_count": 2,
   "metadata": {},
   "outputs": [],
   "source": [
    "#DOWNLOADING STOCK DATA FOR DISNEY FROM YAHOO\n",
    "stocks = 'DIS'\n",
    "source = 'yahoo'\n",
    "start = '2012-01-01'\n",
    "end = date.today()\n",
    "prices = pd.DataFrame()\n",
    "prices['close'] = web.DataReader(stocks, data_source=source, start=start, end=end)['Adj Close']\n",
    "prices['open'] = web.DataReader(stocks, data_source=source, start=start, end=end)['Open']\n",
    "prices = prices.reset_index()\n",
    "prices = prices[['close','open']]\n",
    "raw=pd.read_csv('nyse/DIS.csv')\n",
    "hist_dis=raw[['close','open']]\n",
    "prices_dataset=hist_dis.append(prices,sort=False)"
   ]
  },
  {
   "cell_type": "markdown",
   "metadata": {},
   "source": [
    "### Close price prediction"
   ]
  },
  {
   "cell_type": "code",
   "execution_count": 3,
   "metadata": {},
   "outputs": [
    {
     "name": "stdout",
     "output_type": "stream",
     "text": [
      "Split data into training set and test set... Number of training samples/ test samples: 13129 1459\n",
      "Epoch 1/1\n",
      "13121/13121 [==============================] - 2s 143us/step - loss: 1.0834e-04\n",
      "Train Score: 0.61 RMSE\n",
      "Test Score: 14.66 RMSE\n"
     ]
    }
   ],
   "source": [
    "# filter out only data of selected stock\n",
    "#stock = prices_dataset[prices_dataset['symbol']==stock_sign]\n",
    "stock=prices_dataset\n",
    "\n",
    "# save stock values as type of floating point number\n",
    "select_stock_prices = stock.close.values.astype('float32')\n",
    "\n",
    "# reshape to column vector\n",
    "select_stock_prices = select_stock_prices.reshape(len(select_stock_prices), 1)\n",
    "\n",
    "# normalize the dataset\n",
    "scaler = MinMaxScaler(feature_range=(0, 1))\n",
    "select_stock_prices = scaler.fit_transform(select_stock_prices)\n",
    "\n",
    "# split data into training set and test set\n",
    "train_size = int(len(select_stock_prices) * 0.90)\n",
    "test_size = len(select_stock_prices) - train_size\n",
    "train, test = select_stock_prices[0:train_size,:], select_stock_prices[train_size:len(select_stock_prices),:]\n",
    "\n",
    "print('Split data into training set and test set... Number of training samples/ test samples:', len(train), len(test))\n",
    "\n",
    "# convert an array of values into a time series dataset \n",
    "# in form \n",
    "#                     X                     Y\n",
    "# t-look_back+1, t-look_back+2, ..., t     t+1\n",
    "\n",
    "# parameters to be set (\"optimum\" hyperparameters obtained from grid search):\n",
    "look_back = 7\n",
    "epochs = 1\n",
    "batch_size = 16\n",
    "\n",
    "def create_dataset(dataset, look_back):\n",
    "\tdataX, dataY = [], []\n",
    "\tfor i in range(len(dataset)-look_back-1):\n",
    "\t\ta = dataset[i:(i+look_back), 0]\n",
    "\t\tdataX.append(a)\n",
    "\t\tdataY.append(dataset[i + look_back, 0])\n",
    "\treturn np.array(dataX), np.array(dataY)\n",
    "\n",
    "# convert stock price data into time series dataset\n",
    "trainX, trainY = create_dataset(train, look_back)\n",
    "testX, testY = create_dataset(test, look_back)\n",
    "\n",
    "# reshape input of the LSTM to be format [samples, time steps, features]\n",
    "trainX = np.reshape(trainX, (trainX.shape[0], trainX.shape[1], 1))\n",
    "testX = np.reshape(testX, (testX.shape[0], testX.shape[1], 1))\n",
    "\n",
    "# create and fit the LSTM network\n",
    "model = Sequential()\n",
    "model.add(LSTM(4, input_shape=(look_back, 1)))\n",
    "model.add(Dense(1))\n",
    "model.compile(loss='mse', optimizer='adam')\n",
    "model.fit(trainX, trainY, epochs=epochs, batch_size=batch_size)\n",
    "\n",
    "# make predictions\n",
    "trainPredict = model.predict(trainX)\n",
    "testPredict = model.predict(testX)\n",
    "\n",
    "# invert predictions and targets to unscaled\n",
    "trainPredict = scaler.inverse_transform(trainPredict)\n",
    "trainY = scaler.inverse_transform([trainY])\n",
    "testPredict = scaler.inverse_transform(testPredict)\n",
    "testY = scaler.inverse_transform([testY])\n",
    "\n",
    "# calculate root mean squared error\n",
    "trainScore = math.sqrt(mean_squared_error(trainY[0], trainPredict[:,0]))\n",
    "print('Train Score: %.2f RMSE' % (trainScore))\n",
    "testScore = math.sqrt(mean_squared_error(testY[0], testPredict[:,0]))\n",
    "print('Test Score: %.2f RMSE' % (testScore))"
   ]
  },
  {
   "cell_type": "markdown",
   "metadata": {},
   "source": [
    "### Save prediction prices for closing"
   ]
  },
  {
   "cell_type": "code",
   "execution_count": 4,
   "metadata": {},
   "outputs": [],
   "source": [
    "prediction=pd.DataFrame()\n",
    "# shift predictions of training data for plotting\n",
    "trainPredictPlot = np.empty_like(select_stock_prices)\n",
    "trainPredictPlot[:, :] = np.nan\n",
    "trainPredictPlot[look_back:len(trainPredict)+look_back, :] = trainPredict\n",
    "\n",
    "# shift predictions of test data for plotting\n",
    "testPredictPlot = np.empty_like(select_stock_prices)\n",
    "testPredictPlot[:, :] = np.nan\n",
    "testPredictPlot[len(trainPredict)+(look_back*2)+1:len(select_stock_prices)-1, :] = testPredict\n",
    "\n",
    "modelling=pd.DataFrame(scaler.inverse_transform(select_stock_prices),columns=['real_close'])\n",
    "modelling['test_close']=pd.DataFrame(testPredictPlot)\n",
    "\n",
    "\n",
    "\n",
    "select=prices_dataset[-16:]\n",
    "newdays = pd.DataFrame([date.today(),0])\n",
    "select.append(newdays)\n",
    "select = select.close.values.astype('float32')\n",
    "select = select.reshape(len(select), 1)\n",
    "select = scaler.transform(select)\n",
    "\n",
    "predX, predY = create_dataset(select, look_back)\n",
    "predX = np.reshape(predX, (predX.shape[0], predX.shape[1], 1))\n",
    "\n",
    "predict_close = model.predict(predX)\n",
    "predict_close = scaler.inverse_transform(predict_close)\n",
    "\n",
    "prediction=pd.DataFrame(predict_close,columns=['close'])\n",
    "prediction['Date']=pd.date_range(start=date.today(), periods=len(prediction), freq='D')"
   ]
  },
  {
   "cell_type": "markdown",
   "metadata": {},
   "source": [
    "### Open price prediction"
   ]
  },
  {
   "cell_type": "code",
   "execution_count": 5,
   "metadata": {},
   "outputs": [
    {
     "name": "stdout",
     "output_type": "stream",
     "text": [
      "Split data into training set and test set... Number of training samples/ test samples: 13129 1459\n",
      "Epoch 1/1\n",
      "13121/13121 [==============================] - 2s 152us/step - loss: 0.0017 0s - loss: 0.00\n",
      "Train Score: 0.65 RMSE\n",
      "Test Score: 13.24 RMSE\n"
     ]
    }
   ],
   "source": [
    "# filter out only data of selected stock\n",
    "\n",
    "stock=prices_dataset\n",
    "\n",
    "# save stock values as type of floating point number\n",
    "select_stock_prices = stock.open.values.astype('float32')\n",
    "\n",
    "# reshape to column vector\n",
    "select_stock_prices = select_stock_prices.reshape(len(select_stock_prices), 1)\n",
    "\n",
    "# normalize the dataset\n",
    "scaler = MinMaxScaler(feature_range=(0, 1))\n",
    "select_stock_prices = scaler.fit_transform(select_stock_prices)\n",
    "\n",
    "# split data into training set and test set\n",
    "train_size = int(len(select_stock_prices) * 0.90)\n",
    "test_size = len(select_stock_prices) - train_size\n",
    "train, test = select_stock_prices[0:train_size,:], select_stock_prices[train_size:len(select_stock_prices),:]\n",
    "\n",
    "print('Split data into training set and test set... Number of training samples/ test samples:', len(train), len(test))\n",
    "\n",
    "# convert an array of values into a time series dataset \n",
    "# in form \n",
    "#                     X                     Y\n",
    "# t-look_back+1, t-look_back+2, ..., t     t+1\n",
    "\n",
    "# parameters to be set (\"optimum\" hyperparameters obtained from grid search):\n",
    "look_back = 7\n",
    "epochs = 1\n",
    "batch_size = 16\n",
    "\n",
    "def create_dataset(dataset, look_back):\n",
    "\tdataX, dataY = [], []\n",
    "\tfor i in range(len(dataset)-look_back-1):\n",
    "\t\ta = dataset[i:(i+look_back), 0]\n",
    "\t\tdataX.append(a)\n",
    "\t\tdataY.append(dataset[i + look_back, 0])\n",
    "\treturn np.array(dataX), np.array(dataY)\n",
    "\n",
    "# convert stock price data into time series dataset\n",
    "trainX, trainY = create_dataset(train, look_back)\n",
    "testX, testY = create_dataset(test, look_back)\n",
    "\n",
    "# reshape input of the LSTM to be format [samples, time steps, features]\n",
    "trainX = np.reshape(trainX, (trainX.shape[0], trainX.shape[1], 1))\n",
    "testX = np.reshape(testX, (testX.shape[0], testX.shape[1], 1))\n",
    "\n",
    "# create and fit the LSTM network\n",
    "model = Sequential()\n",
    "model.add(LSTM(4, input_shape=(look_back, 1)))\n",
    "model.add(Dense(1))\n",
    "model.compile(loss='mse', optimizer='adam')\n",
    "model.fit(trainX, trainY, epochs=epochs, batch_size=batch_size)\n",
    "\n",
    "# make predictions\n",
    "trainPredict = model.predict(trainX)\n",
    "testPredict = model.predict(testX)\n",
    "\n",
    "# invert predictions and targets to unscaled\n",
    "trainPredict = scaler.inverse_transform(trainPredict)\n",
    "trainY = scaler.inverse_transform([trainY])\n",
    "testPredict = scaler.inverse_transform(testPredict)\n",
    "testY = scaler.inverse_transform([testY])\n",
    "\n",
    "# calculate root mean squared error\n",
    "trainScore = math.sqrt(mean_squared_error(trainY[0], trainPredict[:,0]))\n",
    "print('Train Score: %.2f RMSE' % (trainScore))\n",
    "testScore = math.sqrt(mean_squared_error(testY[0], testPredict[:,0]))\n",
    "print('Test Score: %.2f RMSE' % (testScore))"
   ]
  },
  {
   "cell_type": "markdown",
   "metadata": {},
   "source": [
    "### Save prediction prices for open price"
   ]
  },
  {
   "cell_type": "code",
   "execution_count": 6,
   "metadata": {},
   "outputs": [],
   "source": [
    "# shift predictions of training data for plotting\n",
    "trainPredictPlot = np.empty_like(select_stock_prices)\n",
    "trainPredictPlot[:, :] = np.nan\n",
    "trainPredictPlot[look_back:len(trainPredict)+look_back, :] = trainPredict\n",
    "\n",
    "# shift predictions of test data for plotting\n",
    "testPredictPlot = np.empty_like(select_stock_prices)\n",
    "testPredictPlot[:, :] = np.nan\n",
    "testPredictPlot[len(trainPredict)+(look_back*2)+1:len(select_stock_prices)-1, :] = testPredict\n",
    "\n",
    "modelling['real_open']=pd.DataFrame(scaler.inverse_transform(select_stock_prices))\n",
    "modelling['test_open']=pd.DataFrame(testPredictPlot)\n",
    "modelling['day']=list(range(len(modelling)))\n",
    "\n",
    "select=prices_dataset[-16:]\n",
    "newdays = pd.DataFrame([date.today(),0])\n",
    "select.append(newdays)\n",
    "select = select.close.values.astype('float32')\n",
    "select = select.reshape(len(select), 1)\n",
    "select = scaler.transform(select)\n",
    "\n",
    "predX, predY = create_dataset(select, look_back)\n",
    "predX = np.reshape(predX, (predX.shape[0], predX.shape[1], 1))\n",
    "\n",
    "predict_open = model.predict(predX)\n",
    "predict_open = scaler.inverse_transform(predict_open)\n",
    "\n",
    "prediction['open']=pd.DataFrame(predict_open)\n",
    "prediction.to_csv('preds.csv',index=False)"
   ]
  },
  {
   "cell_type": "code",
   "execution_count": 7,
   "metadata": {},
   "outputs": [
    {
     "data": {
      "image/png": "[encoded data removed]",
      "text/plain": [
       "<Figure size 432x288 with 1 Axes>"
      ]
     },
     "metadata": {},
     "output_type": "display_data"
    },
    {
     "data": {
      "image/png": "[encoded data removed]",
      "text/plain": [
       "<Figure size 432x288 with 1 Axes>"
      ]
     },
     "metadata": {},
     "output_type": "display_data"
    }
   ],
   "source": [
    "plt.plot( 'day', 'real_open', data=modelling, color='skyblue', linewidth=2)\n",
    "plt.plot( 'day', 'test_open', data=modelling, color='orange', linewidth=1)\n",
    "plt.grid(b=None)\n",
    "plt.legend()\n",
    "# Add title and axis names\n",
    "plt.title('Performance : Predicting opening price')\n",
    "plt.xlabel('Day')\n",
    "plt.ylabel('Price($)')\n",
    "plt.xticks([])\n",
    "plt.yticks([])\n",
    "plt.show()\n",
    "\n",
    "plt.plot( 'day', 'real_close', data=modelling, color='skyblue', linewidth=2)\n",
    "plt.plot( 'day', 'test_close', data=modelling, color='orange', linewidth=1)\n",
    "plt.grid(b=None)\n",
    "plt.legend()\n",
    "# Add title and axis names\n",
    "plt.title('Performance : Predicting closing price')\n",
    "plt.xlabel('Day')\n",
    "plt.ylabel('Price($)')\n",
    "plt.xticks([])\n",
    "plt.yticks([])\n",
    "plt.rcParams[\"figure.figsize\"] = [36,29]\n",
    "plt.show()"
   ]
  },
  {
   "cell_type": "code",
   "execution_count": 15,
   "metadata": {},
   "outputs": [],
   "source": [
    "import pygsheets\n",
    "#authorization\n",
    "gc = pygsheets.authorize(service_file='bigdatacdh.json')\n",
    "\n",
    "#open the google spreadsheet (where 'PY to Gsheet Test' is the name of my sheet)\n",
    "sh = gc.open('prediction')\n",
    "\n",
    "#select the first sheet \n",
    "wks = sh[0]\n",
    "\n",
    "#update the first sheet with df, starting at cell B2. \n",
    "wks.set_dataframe(prediction,(1,1))"
   ]
  }
 ],
 "metadata": {
  "kernelspec": {
   "display_name": "Python 3",
   "language": "python",
   "name": "python3"
  },
  "language_info": {
   "codemirror_mode": {
    "name": "ipython",
    "version": 3
   },
   "file_extension": ".py",
   "mimetype": "text/x-python",
   "name": "python",
   "nbconvert_exporter": "python",
   "pygments_lexer": "ipython3",
   "version": "3.7.3"
  }
 },
 "nbformat": 4,
 "nbformat_minor": 2
}
